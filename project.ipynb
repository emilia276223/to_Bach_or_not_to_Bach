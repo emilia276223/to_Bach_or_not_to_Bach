{
 "cells": [
  {
   "cell_type": "code",
   "execution_count": null,
   "metadata": {},
   "outputs": [],
   "source": [
    "from dataset import DataSet\n",
    "\n",
    "dataset = DataSet('json_data')\n",
    "dataset.process_data()\n",
    "dataset.split_data()"
   ]
  },
  {
   "cell_type": "code",
   "execution_count": null,
   "metadata": {},
   "outputs": [],
   "source": [
    "from models.knn import KNN\n",
    "\n",
    "knn = KNN(dataset)\n",
    "knn.fit()\n",
    "knn.predict()\n",
    "knn.print_metrics()\n",
    "knn.save_metrics(\"result_knn.json\")"
   ]
  },
  {
   "cell_type": "code",
   "execution_count": null,
   "metadata": {},
   "outputs": [],
   "source": [
    "from models.log_reg import LogReg\n",
    "\n",
    "logreg = LogReg(dataset)\n",
    "for ovo in [False, True]:\n",
    "    logreg.fit(ovo)\n",
    "    logreg.predict()\n",
    "    print(f\"One vs {'One' if ovo else 'Rest'}\")\n",
    "    logreg.print_metrics()\n",
    "    logreg.save_metrics(f\"result_logreg_{'ovo' if ovo else 'ovr'}.json\")"
   ]
  },
  {
   "cell_type": "code",
   "execution_count": null,
   "metadata": {},
   "outputs": [],
   "source": [
    "from models.dectrees import DecTrees\n",
    "\n",
    "dectrees = DecTrees(dataset)\n",
    "dectrees.fit()\n",
    "dectrees.predict()\n",
    "dectrees.print_metrics()\n",
    "dectrees.save_metrics(\"result_dectrees.json\")"
   ]
  },
  {
   "cell_type": "code",
   "execution_count": null,
   "metadata": {},
   "outputs": [],
   "source": [
    "from models.randforests import RandForests\n",
    "\n",
    "randforest = RandForests(dataset)\n",
    "randforest.fit()\n",
    "randforest.predict()\n",
    "randforest.print_metrics()\n",
    "randforest.save_metrics(\"result_randforest.json\")"
   ]
  },
  {
   "cell_type": "code",
   "execution_count": null,
   "metadata": {},
   "outputs": [],
   "source": [
    "from models.gradboost import GradBoostMachines\n",
    "\n",
    "gradboost = GradBoostMachines(dataset)\n",
    "gradboost.fit()\n",
    "gradboost.predict()\n",
    "gradboost.print_metrics()\n",
    "gradboost.save_metrics(\"result_gradboost.json\")"
   ]
  },
  {
   "cell_type": "code",
   "execution_count": null,
   "metadata": {},
   "outputs": [],
   "source": [
    "from models.xgb import XGB\n",
    "\n",
    "xgb = XGB(dataset)\n",
    "xgb.fit()\n",
    "xgb.predict()\n",
    "xgb.print_metrics()\n",
    "xgb.save_metrics(\"result_xgb.json\")"
   ]
  },
  {
   "cell_type": "code",
   "execution_count": null,
   "metadata": {},
   "outputs": [],
   "source": [
    "from models.svm import SVM\n",
    "\n",
    "svm = SVM(dataset)\n",
    "svm.fit()\n",
    "svm.predict()\n",
    "svm.print_metrics()\n",
    "svm.save_metrics(\"result_svm.json\")"
   ]
  },
  {
   "cell_type": "code",
   "execution_count": null,
   "metadata": {},
   "outputs": [],
   "source": [
    "from models.nn import NeuralNetwork\n",
    "\n",
    "nn = NeuralNetwork(dataset)\n",
    "nn.fit()\n",
    "nn.predict()\n",
    "nn.print_metrics()\n",
    "nn.save_metrics(\"result_nn.json\")"
   ]
  }
 ],
 "metadata": {
  "kernelspec": {
   "display_name": "Python 3",
   "language": "python",
   "name": "python3"
  },
  "language_info": {
   "codemirror_mode": {
    "name": "ipython",
    "version": 3
   },
   "file_extension": ".py",
   "mimetype": "text/x-python",
   "name": "python",
   "nbconvert_exporter": "python",
   "pygments_lexer": "ipython3",
   "version": "3.12.7"
  }
 },
 "nbformat": 4,
 "nbformat_minor": 2
}
